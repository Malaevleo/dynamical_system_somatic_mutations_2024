{
  "cells": [
    {
      "cell_type": "code",
      "execution_count": null,
      "metadata": {
        "id": "xLc3T0yX20yh"
      },
      "outputs": [],
      "source": [
        "from scipy.integrate import odeint, solve_ivp\n",
        "import numpy as np\n",
        "import matplotlib.pyplot as plt\n",
        "%matplotlib inline"
      ]
    },
    {
      "cell_type": "markdown",
      "metadata": {
        "id": "6sS3iY2s20yl"
      },
      "source": [
        "The model is considered as follows:\n",
        "\n",
        "$$\n",
        "    \\dot X = rX(1 - \\frac{X}{K}) + 2 \\epsilon Y - \\alpha t - \\hat m(t) X  \\\\\n",
        "    \\dot Y = \\gamma Y(1 - \\frac{Y}{M}) - \\beta t - \\epsilon Y \\\\\n",
        "    \\hat m(t) = \\exp(\\frac{(\\alpha X + \\beta Y)^{2} \\sigma}{2} t^{2} [1 - \\frac{X + Y}{K + M}])\n",
        "$$\n",
        "\n",
        "Some things changed since the last time:\n",
        "\n",
        "Currently this model covers all assumptions except the \"lobules\" theory. At this moment I can see the solution to lobules question just by constructing partial differential equations which is overcomplication (maybe).\n",
        "\n",
        "Used assumptions:\n",
        "\n",
        "- Somatic cells recover and it depends on the amount of healthy cells (here r - rate of recovery and K is Som.C. capacity)\n",
        "- Stem cells follow nearly the same process and that's why their growth considered the same ($\\gamma$ - rate, M - capacity)\n",
        "- Stem cells proliferate into somatic cells, giving birth to 2 som.c. (epsilon - rate of proliferation)\n",
        "- Mutations occur with a constant rate as a frequency at a time, thus they are denoted as alpha and beta\n",
        "- Cells are not supplied to an organ\n",
        "- There are no mutations at a 0 time\n",
        "- We don't consider that regeneration declines with age\n",
        "- We don't consider progenitor cells\n",
        "- We also don't consider that stem cells die, they mutate or proliferate\n",
        "\n",
        "Now the funny part:\n",
        "\n",
        "The death rate, that considered previously as $\\frac{\\theta}{X}$ for specifying it's growth when the number of healthy cells go under is now rejected.\n",
        "\n",
        "Instead of showing dependence on the number of healthy cells, we can try to follow the mutated cells. So, now the probability of death depends on how much mutated cells take space in an organ.\n",
        "\n",
        "For that purpose we can construct some kind of a \"death\" function, that will specify the probability that some number of cells die at a moment of time. Following the mathematical logic $m = \\exp(\\frac{(\\alpha + \\beta) \\sigma}{2} t^{2} [1 - \\frac{X + Y}{K + M}])$.\n",
        "\n",
        "The expression inside the exponent can be broken into parts that have meaning:\n",
        "\n",
        "- Here $\\sigma$ shows the rate term, just the proportion for the death\n",
        "- Term $(\\alpha + \\beta)t$ is used because our fuction should trace how much cells are mutated at the moment\n",
        "- Here $t$ is used for time dependence. It is nearly impossible to make such function without time inside it, and to be honest, it would be not sufficient.\n",
        "- Term $[1 - \\frac{X + Y}{K + M}]$ is the most important one, as it speeds up the death rate if the mutated cells are somehow cover nearly all the volume of an organ, and slow down if there is no mutated cells.\n",
        "\n",
        "Now we can justify the choice of such a function mathematically:\n",
        "\n",
        "-If we consider rate of dying to be time and mutation dependent $m = m(t, \\hat X)$, where $\\hat X$ denotes the number of mutated cells, then:\n",
        "\n",
        "$$\n",
        "    \\frac{dm}{dt} = \\sigma \\hat X m \\\\\n",
        "    \\hat X = (\\alpha + \\beta) t \\\\\n",
        "    \\frac{dm}{dt} = \\sigma (\\alpha + \\beta) m t  \\\\\n",
        "    \\frac{dm}{m} = \\sigma (\\alpha + \\beta) t dt \\\\\n",
        "    \\int \\frac{dm}{m} = \\int \\sigma (\\alpha + \\beta) t dt \\\\\n",
        "    \\ln m = \\sigma (\\alpha + \\beta) \\frac{t^{2}}{2} \\\\\n",
        "    m(t) = \\exp(\\sigma (\\alpha + \\beta) \\frac{t^{2}}{2}) \\\\\n",
        "$$\n",
        "\n",
        "And also we should specify that the rate of growth for this function depends on the space left for mutated cells for occupy (as we consider the death rate go faster if the space is small), we will make it through a coefficient $\\kappa = 1 - \\frac{X + Y}{K + M}$.\n",
        "\n",
        "$$\n",
        "    m(t) = \\exp(\\sigma (\\alpha + \\beta) \\kappa \\frac{t^{2}}{2}) \\\\\n",
        "    m(t) = \\exp(\\sigma (\\alpha + \\beta) \\frac{t^{2}}{2} [1 - \\frac{X + Y}{K + M}])\n",
        "$$\n",
        "\n",
        "So, now the equation has a clear explainable form.\n",
        "\n",
        "The only moment left for this equation is the baseline rate $m_0$ that should be in the equation as the \"true\" solution is:\n",
        "\n",
        "$$\n",
        "     m(t) = m_0 \\exp(\\sigma (\\alpha + \\beta) \\frac{t^{2}}{2} [1 - \\frac{X + Y}{K + M}])\n",
        "$$\n",
        "\n",
        "But here we consider it to equal 1\n",
        "\n",
        "However, there is an another variant:\n",
        "\n",
        "- If we consider the mortality rate to depend only on the amount of mutated cells, we should denote it as $\\hat m = \\hat m(\\hat X)$. In this variant the dependece will be as follows:\n",
        "\n",
        "$$\n",
        "    \\frac{d\\hat m}{d\\hat X} = \\sigma \\hat X \\hat m \\\\\n",
        "    \\\\\n",
        "\n",
        "    \\frac{d \\hat m}{\\hat m} = \\sigma \\hat X d \\hat X \\\\\n",
        "    \\\\\n",
        "\n",
        "    \\int \\frac{d \\hat m}{\\hat m} = \\int \\sigma \\hat X d \\hat X \\\\\n",
        "    \\\\\n",
        "\n",
        "    \\ln \\hat m = \\frac{\\sigma \\hat X^{2}}{2} \\\\\n",
        "    \\\\\n",
        "\n",
        "    \\hat m(t) = \\hat m_0 exp(\\sigma (\\alpha + \\beta)^{2} \\frac{t^{2}}{2})\n",
        "$$\n",
        "\n",
        "Making the volume term appear and setting $\\hat m_0 = 1$:\n",
        "\n",
        "$$\n",
        " \\hat m(t) = exp(\\sigma (\\alpha + \\beta)^{2} \\frac{t^{2}}{2}  [1 - \\frac{X + Y}{K + M}])\n",
        "$$\n",
        "\n",
        "And there also should be the $\\hat m_0$ for the mathematical strictness.\n",
        "\n",
        "The most suitable one seems to be the $\\hat m$ variant\n",
        "\n",
        "This equation is a very non-linear type and we can't solve it analytically without any simplifications and assumptions, so we solve it numeriacally using scipy.integrate.odeint"
      ]
    },
    {
      "cell_type": "code",
      "execution_count": null,
      "metadata": {
        "colab": {
          "base_uri": "https://localhost:8080/"
        },
        "id": "zzSz4TQU20yn",
        "outputId": "a2888176-5870-4fa9-9d0e-dce58e0bd69a"
      },
      "outputs": [
        {
          "output_type": "stream",
          "name": "stdout",
          "text": [
            "Years upper threshold: 218.0\n"
          ]
        }
      ],
      "source": [
        "def model1(t, y, r, K, e, a, sigma, g, M, b):\n",
        "    X, Y, Z = y\n",
        "\n",
        "    m = 0.5*sigma*(a*X + b*Y)**2*t**2*(1 - (X+Y)/(K+M)) # For somatic only\n",
        "    #m = 0.5*sigma*Z**2*(1 - (X+Y)/(K+M)) # For germline+somatic in a population\n",
        "\n",
        "    #m = (sigma*(a*X + b*Y)**2*t)*(1 - (X+Y)/(K+M)) #somatic only\n",
        "    #m = (sigma*(Z)*(a*X + b*Y))*(1 - (X+Y)/(K+M)) #germline+somatic\n",
        "\n",
        "    #m = 0.5*sigma*t**2*(X+Y)*(a*X + b*Y)**2*(1+ (X+Y)/(K+M))\n",
        "\n",
        "    dXdt = r*X*(1 - X/K) + 2*e*Y - a*X - m\n",
        "    dYdt = g*Y*(1 - Y/M) - b*Y - e*Y\n",
        "    dZdt = a*X + b*Y\n",
        "    return [dXdt, dYdt, dZdt]\n",
        "\n",
        "\n",
        "r = 4/407 # !\n",
        "K = 2e11 # !\n",
        "#K = 3.37e8\n",
        "a1= (1.5*3.5e-9)*6.9e-3\n",
        "a = (3.5e-9)*6.9e-3# *21 article: ~3.5e-9 3.33e-9 = mean // for cih\n",
        "#a = (8.1e-9)*6.9e-3 #mice\n",
        "#a = (8.1e-9)\n",
        "#a = (35*3.5e-9)\n",
        "#a =21#1.6492e-6\n",
        "#b =11#1.6492e-6\n",
        "e = 0.064 # !\n",
        "g = 4/407 # !\n",
        "b = (1.83e-9)*6.9e-3 #9.6e-3 # a/5 (a/2) *11 article: ~1.7e-9\n",
        "b1= (1.5*1.83e-9)*6.9e-3\n",
        "#b = (3*1.83e-9)\n",
        "#b = (35*1.83e-9) #mice\n",
        "M = 2127660 #M = K/94000 !\n",
        "#M = K/94000\n",
        "sigma = 0.087 # 2e-2 !\n",
        "#sigma = 0.15\n",
        "\n",
        "start = 0\n",
        "end = 88769\n",
        "years = end - start\n",
        "\n",
        "print('Years upper threshold:', np.round(years*21.5/(365.25*24)))\n",
        "\n",
        "X0, Y0, Z0 = 0.31*K, 0.31*M, 1e5# X0 solved\n",
        "initial_conditions = [X0, Y0, Z0]"
      ]
    },
    {
      "cell_type": "code",
      "execution_count": null,
      "metadata": {
        "colab": {
          "base_uri": "https://localhost:8080/"
        },
        "id": "neakQEct20yo",
        "outputId": "0911c239-6b3e-417c-d3a0-161ae8be3ebf"
      },
      "outputs": [
        {
          "output_type": "stream",
          "name": "stdout",
          "text": [
            "Life expentancy (years): 197.0\n",
            "--------------------------------------------------\n",
            "Time of regeneration of somatic cells (years): 1.35\n"
          ]
        }
      ],
      "source": [
        "t = np.linspace(start, end, years)\n",
        "solution2 = solve_ivp(model1,t_span=(start, end), y0=initial_conditions, t_eval=t, method = 'RK45',args=(r, K, e, a, sigma, g, M, b), dense_output=True)\n",
        "l = []\n",
        "for i in range(years):\n",
        "    if solution2.y[0][i]/K <= 0.3:\n",
        "        l.append(i)\n",
        "        break\n",
        "\n",
        "if len(l) != 0:\n",
        "    print('Life expentancy (years):', np.round((l[0]*21.5)/(365.25*24)))\n",
        "    print('-'*50)\n",
        "else:\n",
        "    print('Havent died')\n",
        "    print('-'*50)\n",
        "\n",
        "k = []\n",
        "for i in range(years):\n",
        "    if solution2.y[0][i]/K > 0.99 :\n",
        "        k.append(i)\n",
        "        break\n",
        "\n",
        "\n",
        "if len(k) != 0:\n",
        "    if X0 == K:\n",
        "        print('No resection')\n",
        "    else:\n",
        "        print('Time of regeneration of somatic cells (years):', np.round((k[0]*21.5)/(365.25*24), 2))\n",
        "else:\n",
        "    if X0 != K:\n",
        "        print('Havent regenerated')"
      ]
    },
    {
      "cell_type": "code",
      "source": [
        "t = np.linspace(start, end, years)\n",
        "solution3 = solve_ivp(model1,t_span=(start, end), y0=initial_conditions, t_eval=t, method = 'RK45',args=(r, K, e, a1, sigma, g, M, b1), dense_output=True)\n",
        "l = []\n",
        "for i in range(years):\n",
        "    if solution3.y[0][i]/K <= 0.3:\n",
        "        l.append(i)\n",
        "        break\n",
        "\n",
        "if len(l) != 0:\n",
        "    print('Life expentancy (years):', np.round((l[0]*21.5)/(365.25*24)))\n",
        "    print('-'*50)\n",
        "else:\n",
        "    print('Havent died')\n",
        "    print('-'*50)\n",
        "\n",
        "k = []\n",
        "for i in range(years):\n",
        "    if solution3.y[0][i]/K > 0.99 :\n",
        "        k.append(i)\n",
        "        break\n",
        "\n",
        "\n",
        "if len(k) != 0:\n",
        "    if X0 == K:\n",
        "        print('No resection')\n",
        "    else:\n",
        "        print('Time of regeneration of somatic cells (years):', np.round((k[0]*21.5)/(365.25*24), 2))\n",
        "else:\n",
        "    if X0 != K:\n",
        "        print('Havent regenerated')"
      ],
      "metadata": {
        "colab": {
          "base_uri": "https://localhost:8080/"
        },
        "id": "UB45P0GAHk4V",
        "outputId": "e55e50d5-02a5-4f4b-babf-5ba866cfcde5"
      },
      "execution_count": null,
      "outputs": [
        {
          "output_type": "stream",
          "name": "stdout",
          "text": [
            "Life expentancy (years): 132.0\n",
            "--------------------------------------------------\n",
            "Time of regeneration of somatic cells (years): 1.35\n"
          ]
        }
      ]
    },
    {
      "cell_type": "code",
      "execution_count": null,
      "metadata": {
        "colab": {
          "base_uri": "https://localhost:8080/"
        },
        "id": "ecnfTiwg20yp",
        "outputId": "69df36bf-8db7-468b-9852-23663bdcd78f"
      },
      "outputs": [
        {
          "output_type": "stream",
          "name": "stdout",
          "text": [
            "Mutated population at a time of death: 4.13e5 cells\n",
            "--------------------------------------------------\n",
            "Fraction of mutated cells: 2.68565e-07\n"
          ]
        }
      ],
      "source": [
        "fraction = 1e5\n",
        "\n",
        "if len(l) != 0:\n",
        "    print(f'Mutated population at a time of death: {np.round(solution2.y[2][l[0]]/fraction, 2)}e5 cells')\n",
        "    print('-'*50)\n",
        "    print('Fraction of mutated cells:', l[0]/K )\n",
        "else:\n",
        "    print('No death event occured')"
      ]
    },
    {
      "cell_type": "code",
      "execution_count": null,
      "metadata": {
        "colab": {
          "base_uri": "https://localhost:8080/",
          "height": 465
        },
        "id": "50EpQEqz20yp",
        "outputId": "a1e71571-c896-4807-85a9-db97b4bb2e0d"
      },
      "outputs": [
        {
          "output_type": "display_data",
          "data": {
            "text/plain": [
              "<Figure size 640x480 with 1 Axes>"
            ],
            "image/png": "[encoded data removed]"
          },
          "metadata": {}
        }
      ],
      "source": [
        "plt.plot((t*21.5)/(365.25*24), solution2.y[0], label='Normal liver')\n",
        "plt.plot((t*21.5)/(365.25*24), solution3.y[0], label='Cirrhotic liver', color = 'green')\n",
        "#plt.plot(t, solution2.y[1], label='Stem cells')\n",
        "#plt.plot(t, solution2.y[2], label='Mutated cells')\n",
        "plt.xlabel('Years')\n",
        "plt.ylabel('Population')\n",
        "plt.axhline(0.3*K, ls = '--', color = 'r')\n",
        "#if len(l) != 0:\n",
        "    #plt.xlim(0, l[0])\n",
        "plt.legend()\n",
        "plt.grid('True')\n",
        "plt.show()"
      ]
    },
    {
      "cell_type": "markdown",
      "metadata": {
        "id": "eC1_fmJT20yq"
      },
      "source": [
        "$$\n",
        "    aX + bY = \\frac{d \\hat X}{dt} = M \\\\\n",
        "    M dt = d \\hat X \\\\\n",
        "    \\frac{d X}{d t d \\hat X} = \\sigma \\hat X \\chi = \\sigma \\chi M t \\\\\n",
        "    \\frac{d^{2} X}{d t^{2} d \\hat X} = \\sigma \\chi M \\\\\n",
        "    \\int \\frac{d^{2} X}{d t^{2} d \\hat X} d \\hat X = \\int \\sigma \\chi M d \\hat X \\\\\n",
        "    \\frac{d^{2} X}{d t^{2}} = \\int \\sigma \\chi M^{2} dt \\\\\n",
        "    \\frac{d^{2} X}{d t^{2}} = \\sigma \\chi M^{2} t + C_1\\\\\n",
        "    \\int \\frac{d^{2} X}{d t^{2}} dt = \\int (\\sigma \\chi M^{2} t + C_1)dt \\\\\n",
        "    \\frac{d X}{d t} = \\frac{\\sigma \\chi M^{2} t^{2}}{2} + C_1t + C_2 = \\mu \\\\\n",
        "    \\mu(t = 0) = 0 \\\\\n",
        "    \\frac{d \\mu}{dt}(X = 0, Y = 0) = 0 \\\\\n",
        "    C_1, C_2 = 0 \\\\\n",
        "    \\mu = \\frac{\\sigma \\chi M^{2} t^{2}}{2}\n",
        "$$\n",
        "\n",
        "$$\n",
        "    \\frac{d X}{d t d \\hat X} = \\sigma \\chi \\hat X \\\\\n",
        "    \\frac{d X}{d t} = \\sigma \\chi \\hat X d \\hat X \\\\\n",
        "    \\frac{d X}{d t} = \\sigma \\chi \\hat X M d t\n",
        "$$"
      ]
    },
    {
      "cell_type": "markdown",
      "metadata": {
        "id": "d4Y55OIL20yq"
      },
      "source": [
        "$$\n",
        "    \\frac{dX}{d \\hat X} = \\sigma \\chi \\hat X\\\\\n",
        "    d X = \\sigma \\chi \\hat X d \\hat X \\\\\n",
        "    \\frac{d X}{d t} = \\sigma \\chi \\hat X \\frac{d \\hat X}{d t} \\\\\n",
        "    \\frac{d X}{d t} = \\sigma \\chi \\hat X M \\\\\n",
        "    \\frac{d X}{d t} = \\sigma \\chi M^{2} t\n",
        "$$"
      ]
    }
  ],
  "metadata": {
    "kernelspec": {
      "display_name": "Python 3",
      "language": "python",
      "name": "python3"
    },
    "language_info": {
      "codemirror_mode": {
        "name": "ipython",
        "version": 3
      },
      "file_extension": ".py",
      "mimetype": "text/x-python",
      "name": "python",
      "nbconvert_exporter": "python",
      "pygments_lexer": "ipython3",
      "version": "3.11.8"
    },
    "colab": {
      "provenance": []
    }
  },
  "nbformat": 4,
  "nbformat_minor": 0
}