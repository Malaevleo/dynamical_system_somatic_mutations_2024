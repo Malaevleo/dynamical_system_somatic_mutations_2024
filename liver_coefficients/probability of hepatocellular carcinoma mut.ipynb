{
 "cells": [
  {
   "cell_type": "code",
   "execution_count": 1,
   "metadata": {},
   "outputs": [],
   "source": [
    "import numpy as np\n",
    "import pandas as pd\n",
    "import matplotlib.pyplot as plt \n",
    "%matplotlib inline"
   ]
  },
  {
   "cell_type": "code",
   "execution_count": 2,
   "metadata": {},
   "outputs": [],
   "source": [
    "data_mut = pd.read_csv('./mut.csv', sep = ',')\n",
    "data_no_mut = pd.read_csv('./nomut.csv', sep = ',')"
   ]
  },
  {
   "cell_type": "code",
   "execution_count": 3,
   "metadata": {},
   "outputs": [
    {
     "data": {
      "text/html": [
       "<div>\n",
       "<style scoped>\n",
       "    .dataframe tbody tr th:only-of-type {\n",
       "        vertical-align: middle;\n",
       "    }\n",
       "\n",
       "    .dataframe tbody tr th {\n",
       "        vertical-align: top;\n",
       "    }\n",
       "\n",
       "    .dataframe thead th {\n",
       "        text-align: right;\n",
       "    }\n",
       "</style>\n",
       "<table border=\"1\" class=\"dataframe\">\n",
       "  <thead>\n",
       "    <tr style=\"text-align: right;\">\n",
       "      <th></th>\n",
       "      <th>Gene name</th>\n",
       "      <th>Mutated samples</th>\n",
       "      <th>Samples tested</th>\n",
       "    </tr>\n",
       "  </thead>\n",
       "  <tbody>\n",
       "    <tr>\n",
       "      <th>0</th>\n",
       "      <td>BAP1_ENST00000615113</td>\n",
       "      <td>0</td>\n",
       "      <td>1177</td>\n",
       "    </tr>\n",
       "    <tr>\n",
       "      <th>1</th>\n",
       "      <td>SF3B1_ENST00000409915</td>\n",
       "      <td>0</td>\n",
       "      <td>1152</td>\n",
       "    </tr>\n",
       "    <tr>\n",
       "      <th>2</th>\n",
       "      <td>SF3B1_ENST00000414963</td>\n",
       "      <td>0</td>\n",
       "      <td>1152</td>\n",
       "    </tr>\n",
       "    <tr>\n",
       "      <th>3</th>\n",
       "      <td>SF3B1_ENST00000487698</td>\n",
       "      <td>0</td>\n",
       "      <td>1152</td>\n",
       "    </tr>\n",
       "    <tr>\n",
       "      <th>4</th>\n",
       "      <td>MYC_ENST00000641252</td>\n",
       "      <td>0</td>\n",
       "      <td>1144</td>\n",
       "    </tr>\n",
       "    <tr>\n",
       "      <th>...</th>\n",
       "      <td>...</td>\n",
       "      <td>...</td>\n",
       "      <td>...</td>\n",
       "    </tr>\n",
       "    <tr>\n",
       "      <th>2414</th>\n",
       "      <td>TP53TG3F</td>\n",
       "      <td>0</td>\n",
       "      <td>1012</td>\n",
       "    </tr>\n",
       "    <tr>\n",
       "      <th>2415</th>\n",
       "      <td>CWC25</td>\n",
       "      <td>0</td>\n",
       "      <td>1012</td>\n",
       "    </tr>\n",
       "    <tr>\n",
       "      <th>2416</th>\n",
       "      <td>NUDT4B</td>\n",
       "      <td>0</td>\n",
       "      <td>1012</td>\n",
       "    </tr>\n",
       "    <tr>\n",
       "      <th>2417</th>\n",
       "      <td>OR4F21</td>\n",
       "      <td>0</td>\n",
       "      <td>1012</td>\n",
       "    </tr>\n",
       "    <tr>\n",
       "      <th>2418</th>\n",
       "      <td>TTC38_ENST00000629918</td>\n",
       "      <td>0</td>\n",
       "      <td>1012</td>\n",
       "    </tr>\n",
       "  </tbody>\n",
       "</table>\n",
       "<p>2419 rows × 3 columns</p>\n",
       "</div>"
      ],
      "text/plain": [
       "                  Gene name  Mutated samples  Samples tested\n",
       "0      BAP1_ENST00000615113                0            1177\n",
       "1     SF3B1_ENST00000409915                0            1152\n",
       "2     SF3B1_ENST00000414963                0            1152\n",
       "3     SF3B1_ENST00000487698                0            1152\n",
       "4       MYC_ENST00000641252                0            1144\n",
       "...                     ...              ...             ...\n",
       "2414               TP53TG3F                0            1012\n",
       "2415                  CWC25                0            1012\n",
       "2416                 NUDT4B                0            1012\n",
       "2417                 OR4F21                0            1012\n",
       "2418  TTC38_ENST00000629918                0            1012\n",
       "\n",
       "[2419 rows x 3 columns]"
      ]
     },
     "execution_count": 3,
     "metadata": {},
     "output_type": "execute_result"
    }
   ],
   "source": [
    "data_no_mut"
   ]
  },
  {
   "cell_type": "code",
   "execution_count": 4,
   "metadata": {},
   "outputs": [
    {
     "data": {
      "text/html": [
       "<div>\n",
       "<style scoped>\n",
       "    .dataframe tbody tr th:only-of-type {\n",
       "        vertical-align: middle;\n",
       "    }\n",
       "\n",
       "    .dataframe tbody tr th {\n",
       "        vertical-align: top;\n",
       "    }\n",
       "\n",
       "    .dataframe thead th {\n",
       "        text-align: right;\n",
       "    }\n",
       "</style>\n",
       "<table border=\"1\" class=\"dataframe\">\n",
       "  <thead>\n",
       "    <tr style=\"text-align: right;\">\n",
       "      <th></th>\n",
       "      <th>Gene name</th>\n",
       "      <th>Mutated samples</th>\n",
       "      <th>Samples tested</th>\n",
       "    </tr>\n",
       "  </thead>\n",
       "  <tbody>\n",
       "    <tr>\n",
       "      <th>0</th>\n",
       "      <td>TP53</td>\n",
       "      <td>1336</td>\n",
       "      <td>4486</td>\n",
       "    </tr>\n",
       "    <tr>\n",
       "      <th>1</th>\n",
       "      <td>TP53_ENST00000445888</td>\n",
       "      <td>1209</td>\n",
       "      <td>4486</td>\n",
       "    </tr>\n",
       "    <tr>\n",
       "      <th>2</th>\n",
       "      <td>TP53_ENST00000622645</td>\n",
       "      <td>1209</td>\n",
       "      <td>4486</td>\n",
       "    </tr>\n",
       "    <tr>\n",
       "      <th>3</th>\n",
       "      <td>TP53_ENST00000455263</td>\n",
       "      <td>1209</td>\n",
       "      <td>4486</td>\n",
       "    </tr>\n",
       "    <tr>\n",
       "      <th>4</th>\n",
       "      <td>TP53_ENST00000617185</td>\n",
       "      <td>1209</td>\n",
       "      <td>4486</td>\n",
       "    </tr>\n",
       "    <tr>\n",
       "      <th>...</th>\n",
       "      <td>...</td>\n",
       "      <td>...</td>\n",
       "      <td>...</td>\n",
       "    </tr>\n",
       "    <tr>\n",
       "      <th>54050</th>\n",
       "      <td>BEX2_ENST00000372677</td>\n",
       "      <td>1</td>\n",
       "      <td>1012</td>\n",
       "    </tr>\n",
       "    <tr>\n",
       "      <th>54051</th>\n",
       "      <td>PTPRCAP</td>\n",
       "      <td>1</td>\n",
       "      <td>1013</td>\n",
       "    </tr>\n",
       "    <tr>\n",
       "      <th>54052</th>\n",
       "      <td>RAD52_ENST00000545564</td>\n",
       "      <td>1</td>\n",
       "      <td>1097</td>\n",
       "    </tr>\n",
       "    <tr>\n",
       "      <th>54053</th>\n",
       "      <td>FAM9C_ENST00000380625</td>\n",
       "      <td>1</td>\n",
       "      <td>1013</td>\n",
       "    </tr>\n",
       "    <tr>\n",
       "      <th>54054</th>\n",
       "      <td>TMSB4X_ENST00000380635</td>\n",
       "      <td>1</td>\n",
       "      <td>1012</td>\n",
       "    </tr>\n",
       "  </tbody>\n",
       "</table>\n",
       "<p>54055 rows × 3 columns</p>\n",
       "</div>"
      ],
      "text/plain": [
       "                    Gene name  Mutated samples  Samples tested\n",
       "0                        TP53             1336            4486\n",
       "1        TP53_ENST00000445888             1209            4486\n",
       "2        TP53_ENST00000622645             1209            4486\n",
       "3        TP53_ENST00000455263             1209            4486\n",
       "4        TP53_ENST00000617185             1209            4486\n",
       "...                       ...              ...             ...\n",
       "54050    BEX2_ENST00000372677                1            1012\n",
       "54051                 PTPRCAP                1            1013\n",
       "54052   RAD52_ENST00000545564                1            1097\n",
       "54053   FAM9C_ENST00000380625                1            1013\n",
       "54054  TMSB4X_ENST00000380635                1            1012\n",
       "\n",
       "[54055 rows x 3 columns]"
      ]
     },
     "execution_count": 4,
     "metadata": {},
     "output_type": "execute_result"
    }
   ],
   "source": [
    "data_mut"
   ]
  },
  {
   "cell_type": "code",
   "execution_count": 5,
   "metadata": {},
   "outputs": [],
   "source": [
    "data_all = pd.concat([data_mut, data_no_mut], axis = 0)"
   ]
  },
  {
   "cell_type": "code",
   "execution_count": 6,
   "metadata": {},
   "outputs": [
    {
     "data": {
      "text/html": [
       "<div>\n",
       "<style scoped>\n",
       "    .dataframe tbody tr th:only-of-type {\n",
       "        vertical-align: middle;\n",
       "    }\n",
       "\n",
       "    .dataframe tbody tr th {\n",
       "        vertical-align: top;\n",
       "    }\n",
       "\n",
       "    .dataframe thead th {\n",
       "        text-align: right;\n",
       "    }\n",
       "</style>\n",
       "<table border=\"1\" class=\"dataframe\">\n",
       "  <thead>\n",
       "    <tr style=\"text-align: right;\">\n",
       "      <th></th>\n",
       "      <th>Gene name</th>\n",
       "      <th>Mutated samples</th>\n",
       "      <th>Samples tested</th>\n",
       "      <th>Mutation ratio</th>\n",
       "    </tr>\n",
       "  </thead>\n",
       "  <tbody>\n",
       "    <tr>\n",
       "      <th>0</th>\n",
       "      <td>TP53</td>\n",
       "      <td>1336</td>\n",
       "      <td>4486</td>\n",
       "      <td>0.297815</td>\n",
       "    </tr>\n",
       "    <tr>\n",
       "      <th>1</th>\n",
       "      <td>TP53_ENST00000445888</td>\n",
       "      <td>1209</td>\n",
       "      <td>4486</td>\n",
       "      <td>0.269505</td>\n",
       "    </tr>\n",
       "    <tr>\n",
       "      <th>2</th>\n",
       "      <td>TP53_ENST00000622645</td>\n",
       "      <td>1209</td>\n",
       "      <td>4486</td>\n",
       "      <td>0.269505</td>\n",
       "    </tr>\n",
       "    <tr>\n",
       "      <th>3</th>\n",
       "      <td>TP53_ENST00000455263</td>\n",
       "      <td>1209</td>\n",
       "      <td>4486</td>\n",
       "      <td>0.269505</td>\n",
       "    </tr>\n",
       "    <tr>\n",
       "      <th>4</th>\n",
       "      <td>TP53_ENST00000617185</td>\n",
       "      <td>1209</td>\n",
       "      <td>4486</td>\n",
       "      <td>0.269505</td>\n",
       "    </tr>\n",
       "    <tr>\n",
       "      <th>...</th>\n",
       "      <td>...</td>\n",
       "      <td>...</td>\n",
       "      <td>...</td>\n",
       "      <td>...</td>\n",
       "    </tr>\n",
       "    <tr>\n",
       "      <th>2414</th>\n",
       "      <td>TP53TG3F</td>\n",
       "      <td>0</td>\n",
       "      <td>1012</td>\n",
       "      <td>0.000000</td>\n",
       "    </tr>\n",
       "    <tr>\n",
       "      <th>2415</th>\n",
       "      <td>CWC25</td>\n",
       "      <td>0</td>\n",
       "      <td>1012</td>\n",
       "      <td>0.000000</td>\n",
       "    </tr>\n",
       "    <tr>\n",
       "      <th>2416</th>\n",
       "      <td>NUDT4B</td>\n",
       "      <td>0</td>\n",
       "      <td>1012</td>\n",
       "      <td>0.000000</td>\n",
       "    </tr>\n",
       "    <tr>\n",
       "      <th>2417</th>\n",
       "      <td>OR4F21</td>\n",
       "      <td>0</td>\n",
       "      <td>1012</td>\n",
       "      <td>0.000000</td>\n",
       "    </tr>\n",
       "    <tr>\n",
       "      <th>2418</th>\n",
       "      <td>TTC38_ENST00000629918</td>\n",
       "      <td>0</td>\n",
       "      <td>1012</td>\n",
       "      <td>0.000000</td>\n",
       "    </tr>\n",
       "  </tbody>\n",
       "</table>\n",
       "<p>56474 rows × 4 columns</p>\n",
       "</div>"
      ],
      "text/plain": [
       "                  Gene name  Mutated samples  Samples tested  Mutation ratio\n",
       "0                      TP53             1336            4486        0.297815\n",
       "1      TP53_ENST00000445888             1209            4486        0.269505\n",
       "2      TP53_ENST00000622645             1209            4486        0.269505\n",
       "3      TP53_ENST00000455263             1209            4486        0.269505\n",
       "4      TP53_ENST00000617185             1209            4486        0.269505\n",
       "...                     ...              ...             ...             ...\n",
       "2414               TP53TG3F                0            1012        0.000000\n",
       "2415                  CWC25                0            1012        0.000000\n",
       "2416                 NUDT4B                0            1012        0.000000\n",
       "2417                 OR4F21                0            1012        0.000000\n",
       "2418  TTC38_ENST00000629918                0            1012        0.000000\n",
       "\n",
       "[56474 rows x 4 columns]"
      ]
     },
     "execution_count": 6,
     "metadata": {},
     "output_type": "execute_result"
    }
   ],
   "source": [
    "data_all['Mutation ratio'] = data_all['Mutated samples']/data_all['Samples tested']\n",
    "data_all"
   ]
  },
  {
   "cell_type": "code",
   "execution_count": 7,
   "metadata": {},
   "outputs": [
    {
     "name": "stdout",
     "output_type": "stream",
     "text": [
      "Mutation ratio mean: 0.009650771842263813\n",
      "----------------------------------------\n",
      "Mutation ratio median: 0.006910167818361303\n"
     ]
    }
   ],
   "source": [
    "print('Mutation ratio mean:', data_all['Mutation ratio'].mean())\n",
    "print('-'*40)\n",
    "print('Mutation ratio median:', data_all['Mutation ratio'].median())"
   ]
  },
  {
   "cell_type": "code",
   "execution_count": 27,
   "metadata": {},
   "outputs": [
    {
     "name": "stdout",
     "output_type": "stream",
     "text": [
      "9.863538431121643 10.731150617983497\n",
      "0.9999479621089721 0.9999781465251708\n",
      "----------------------------------------\n",
      "3.01844161987308e-05\n",
      "----------------------------------------\n",
      "0.8676121868618534\n",
      "0.006886347507750967\n"
     ]
    },
    {
     "data": {
      "text/plain": [
       "array([], dtype=int32)"
      ]
     },
     "execution_count": 27,
     "metadata": {},
     "output_type": "execute_result"
    }
   ],
   "source": [
    "mu1 = data_all['Mutation ratio'].mean()\n",
    "med = data_all['Mutation ratio'].median()\n",
    "prob = 1 - np.exp(-med)\n",
    "prob # 9.6e-3\n",
    "mean_sample = data_all['Samples tested'].mean()\n",
    "prob1 = 1 - np.exp(-mu1*mean_sample)\n",
    "mean_1 = data_all['Mutated samples'].mean()\n",
    "print(mu1*mean_sample, mean_1)\n",
    "prob2 = 1 - np.exp(-mean_1)\n",
    "print(prob1, prob2)\n",
    "print('-'*40)\n",
    "print(prob2-prob1)\n",
    "print('-'*40)\n",
    "print(np.abs(mu1*mean_sample - mean_1))\n",
    "print(prob)"
   ]
  },
  {
   "cell_type": "code",
   "execution_count": 23,
   "metadata": {},
   "outputs": [],
   "source": [
    "data_mutated = data_all[data_all['Mutation ratio'] > 0]"
   ]
  },
  {
   "cell_type": "code",
   "execution_count": 20,
   "metadata": {},
   "outputs": [
    {
     "data": {
      "text/plain": [
       "<Axes: ylabel='Density'>"
      ]
     },
     "execution_count": 20,
     "metadata": {},
     "output_type": "execute_result"
    },
    {
     "data": {
      "image/png": "[encoded data removed]",
      "text/plain": [
       "<Figure size 640x480 with 1 Axes>"
      ]
     },
     "metadata": {},
     "output_type": "display_data"
    }
   ],
   "source": [
    "s = np.log(data_mutated['Mutation ratio'])\n",
    "s.plot.kde(bw_method=0.4)"
   ]
  },
  {
   "cell_type": "code",
   "execution_count": 58,
   "metadata": {},
   "outputs": [
    {
     "data": {
      "text/plain": [
       "0.006713768391766654"
      ]
     },
     "execution_count": 58,
     "metadata": {},
     "output_type": "execute_result"
    }
   ],
   "source": [
    "mu = np.exp(s.mean())\n",
    "mu"
   ]
  },
  {
   "cell_type": "code",
   "execution_count": 32,
   "metadata": {},
   "outputs": [
    {
     "data": {
      "text/plain": [
       "0.5164854623366505"
      ]
     },
     "execution_count": 32,
     "metadata": {},
     "output_type": "execute_result"
    }
   ],
   "source": [
    "data_filtered = data_mutated[data_mutated['Mutation ratio']>=np.exp(s.mean())]\n",
    "data_filtered.shape[0]/data_all.shape[0]"
   ]
  },
  {
   "cell_type": "code",
   "execution_count": 45,
   "metadata": {},
   "outputs": [
    {
     "name": "stdout",
     "output_type": "stream",
     "text": [
      "Percent of harmful SNV: 19.0\n",
      "----------------------------------------\n",
      "Coeff for mutations:\n"
     ]
    }
   ],
   "source": [
    "thr = data_mutated['Mutation ratio'].quantile(0.8)\n",
    "data_quant = data_mutated[data_mutated['Mutation ratio']>=thr]\n",
    "print('Percent of harmful SNV:', np.round(data_quant.shape[0]/data_all.shape[0]*100))\n",
    "print('-'*40)\n",
    "print('Coeff for mutations:', )"
   ]
  },
  {
   "cell_type": "code",
   "execution_count": 22,
   "metadata": {},
   "outputs": [
    {
     "data": {
      "text/plain": [
       "<Axes: ylabel='Density'>"
      ]
     },
     "execution_count": 22,
     "metadata": {},
     "output_type": "execute_result"
    },
    {
     "data": {
      "image/png": "[encoded data removed]",
      "text/plain": [
       "<Figure size 640x480 with 1 Axes>"
      ]
     },
     "metadata": {},
     "output_type": "display_data"
    }
   ],
   "source": [
    "s1 = data_mutated['Mutation ratio']\n",
    "s1.plot.kde(bw_method=0.4)"
   ]
  },
  {
   "cell_type": "code",
   "execution_count": null,
   "metadata": {},
   "outputs": [],
   "source": []
  }
 ],
 "metadata": {
  "kernelspec": {
   "display_name": "Python 3",
   "language": "python",
   "name": "python3"
  },
  "language_info": {
   "codemirror_mode": {
    "name": "ipython",
    "version": 3
   },
   "file_extension": ".py",
   "mimetype": "text/x-python",
   "name": "python",
   "nbconvert_exporter": "python",
   "pygments_lexer": "ipython3",
   "version": "3.11.8"
  }
 },
 "nbformat": 4,
 "nbformat_minor": 2
}
